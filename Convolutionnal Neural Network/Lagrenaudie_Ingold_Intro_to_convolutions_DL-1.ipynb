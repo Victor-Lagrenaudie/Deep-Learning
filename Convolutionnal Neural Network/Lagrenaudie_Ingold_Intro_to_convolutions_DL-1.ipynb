{
 "cells": [
  {
   "cell_type": "markdown",
   "metadata": {},
   "source": [
    "# Use of convolutions with tensorflow\n",
    "\n",
    "In this notebook, you'll be using tensorflow to build a Convolutional Neural Network (CNN).  "
   ]
  },
  {
   "cell_type": "markdown",
   "metadata": {},
   "source": [
    "### Convolution\n",
    "\n",
    "Both, [this notebook](https://nbviewer.jupyter.org/github/marc-moreaux/Deep-Learning-classes/blob/master/notebooks/Convolution.ipynb) and this [wikipedia page](https://en.wikipedia.org/wiki/Convolution) might help you understand what is a convolution.\n",
    "\n",
    "no, if we consider two functions $f$ and $g$ taking values from $\\mathbb{Z} \\to \\mathbb{R}$ then:  \n",
    "$ (f * g)[n] = \\sum_{m = -\\infty}^{+\\infty} f[m] \\cdot g[n - m] $\n",
    "\n",
    "In our case, we consider the two vectors $x$ and $w$ :  \n",
    "$ x = (x_1, x_2, ..., x_{n-1}, x_n) $  \n",
    "$ w = (w_1, w_2) $\n",
    "\n",
    "And get :   \n",
    "$ x * w = (w_1 x_1 + w_2 x_2, w_1 x_2 + w_2 x_3, ..., w_1 x_{n-1} + w_2 x_n)$\n",
    "\n",
    "\n",
    "#### Deep learning subtility :\n",
    "    \n",
    "In most of deep learning framewoks, you'll get to chose in between three paddings:\n",
    "- **Same**: $(f*g)$ has the same shape as x (we pad the entry with zeros)\n",
    "- **valid**: $(f*g)$ has the shape of x minus the shape of w plus 1 (no padding on x)\n",
    "- **Causal**: $(f*g)(n_t)$ does not depend on any $(n_{t+1})$"
   ]
  },
  {
   "cell_type": "markdown",
   "metadata": {},
   "source": [
    "### Tensorflow\n",
    "\n",
    "\"TensorFlow is an open-source software library for dataflow programming across a range of tasks. It is a symbolic math library, and also used for machine learning applications such as neural networks.[3] It is used for both research and production at Google often replacing its closed-source predecessor, DistBelief.\" - Wikipedia\n",
    "\n",
    "We'll be using tensorflow to build the models we want to use. \n",
    "\n",
    "Here below, we build a AND gate with a very simple neural network :"
   ]
  },
  {
   "cell_type": "code",
   "execution_count": 1,
   "metadata": {},
   "outputs": [
    {
     "name": "stdout",
     "output_type": "stream",
     "text": [
      "[[ 0.00839782]\n",
      " [ 0.1499088 ]\n",
      " [ 0.1499088 ]\n",
      " [ 0.78595555]] Tensor(\"Y:0\", shape=(?, 1), dtype=float32) b'\\n\\x10\\n\\tloss/loss\\x15\\xfa\\xf8\\x12>'\n"
     ]
    }
   ],
   "source": [
    "import tensorflow as tf\n",
    "import numpy as np\n",
    "\n",
    "tf.reset_default_graph()\n",
    "\n",
    "# Define our Dataset\n",
    "X = np.array([[0,0],[0,1],[1,0],[1,1]])\n",
    "Y = np.array([0,0,0,1])\n",
    "Y=Y.reshape(-1,1)\n",
    "\n",
    "\n",
    "\n",
    "# Define the tensorflow tensors\n",
    "x = tf.placeholder(tf.float32, [None, 2], name='X')  # inputs\n",
    "y = tf.placeholder(tf.float32, [None, 1], name='Y')  # outputs\n",
    "W = tf.Variable(tf.zeros([2, 1]), name='W')\n",
    "b = tf.Variable(tf.zeros([1,]), name='b')\n",
    "\n",
    "\n",
    "# Define the model\n",
    "pred = tf.nn.sigmoid(tf.matmul(x, W) + b)  # Model\n",
    "\n",
    "# Define the loss\n",
    "with tf.name_scope(\"loss\"):\n",
    "    loss = tf.reduce_mean(-tf.reduce_sum(y * tf.log(pred) + (1-y) * tf.log(1-pred), reduction_indices=1))\n",
    "    loss_summary = tf.summary.scalar('loss', loss)\n",
    "\n",
    "# Define the optimizer method you want to use\n",
    "with tf.name_scope(\"optimizer\"):\n",
    "    optimizer = tf.train.GradientDescentOptimizer(0.1).minimize(loss)\n",
    "\n",
    "# Include some Tensorboard visualization\n",
    "writer = tf.summary.FileWriter(\"./my_model/\")\n",
    "\n",
    "\n",
    "# Start training session\n",
    "with tf.Session() as sess:\n",
    "    sess.run(tf.global_variables_initializer())\n",
    "    writer.add_graph(sess.graph)\n",
    "    \n",
    "    for epoch in range(1000):\n",
    "        _, c, p, ls = sess.run([optimizer, loss, pred, loss_summary], feed_dict={x: X,\n",
    "                                                      y: Y})\n",
    "        writer.add_summary(ls,epoch)\n",
    "print(p, y, ls)"
   ]
  },
  {
   "cell_type": "markdown",
   "metadata": {},
   "source": [
    "To visualize the graph you just created, launch tensorbord.  \n",
    "`$tensorboard --logdirs=./` on linux (with corresponding logdir)"
   ]
  },
  {
   "cell_type": "markdown",
   "metadata": {},
   "source": [
    "---\n",
    "### Get inspiration from the preceding code to build a XOR gate\n",
    "\n",
    "Design a neural network with 2 layers.\n",
    "- layer1 has 2 neurons (sigmoid or tanh activation)\n",
    "- Layer2 has 1 neuron (it outouts the prediction)\n",
    "\n",
    "And train  it\n",
    "\n",
    "It's **mandatory** that you get a **tensorboard visualization** of your graph, try to make it look good, plz :)\n",
    "\n",
    "Here below I put a graph of the model you want to have (yet your weights won't be the same)\n",
    "![graph](https://i.stack.imgur.com/nRZ6z.png)"
   ]
  },
  {
   "cell_type": "code",
   "execution_count": 7,
   "metadata": {},
   "outputs": [
    {
     "name": "stdout",
     "output_type": "stream",
     "text": [
      "[[  8.48681248e-06]\n",
      " [  9.99995232e-01]\n",
      " [  9.99995351e-01]\n",
      " [  3.73645389e-06]] Tensor(\"Y:0\", shape=(?, 1), dtype=float32)\n",
      "(4, 1)\n"
     ]
    }
   ],
   "source": [
    "import tensorflow as tf\n",
    "import numpy as np\n",
    "\n",
    "tf.reset_default_graph()\n",
    "\n",
    "# Define our Dataset\n",
    "X = np.array([[0,0],[0,1],[1,0],[1,1]])\n",
    "Y = np.array([0,1,1,0]).reshape(-1,1)\n",
    "\n",
    "input_node=2\n",
    "hidden_node=2\n",
    "output_node=1\n",
    "\n",
    "# Define the tensorflow tensors\n",
    "\n",
    "x = tf.placeholder(tf.float32, [None, 2], name='X')# inputs\n",
    "y = tf.placeholder(tf.float32, [None, 1], name='Y')# outputs\n",
    "#W1 = tf.Variable(tf.random_normal([2, 2], seed=0), name='W1')\n",
    "#W2 = tf.Variable(tf.random_normal([2, 1], seed=0), name='W2')\n",
    "#b1 = tf.Variable(tf.random_normal([2,], seed=0), name='b1')\n",
    "#b2= tf.Variable(tf.random_normal([1,], seed=0), name='b2')\n",
    "\n",
    "\n",
    "W1 = tf.Variable(tf.random_normal([input_node, hidden_node],seed=0), name='W1')\n",
    "W2 = tf.Variable(tf.random_normal([hidden_node, output_node],seed=0), name='W2')\n",
    "b1 = tf.Variable(tf.random_normal([hidden_node,],seed=0), name='b1')\n",
    "b2= tf.Variable(tf.random_normal([output_node,],seed=0), name='b2')\n",
    "\n",
    "\n",
    "\n",
    "\n",
    "first_pred = tf.nn.sigmoid(tf.matmul(x, W1) + b1)# Model\n",
    "pred = tf.nn.sigmoid(tf.matmul(first_pred, W2) + b2)# Model\n",
    "\n",
    "with tf.name_scope(\"loss\"):\n",
    "    loss = tf.reduce_mean(-tf.reduce_sum(y * tf.log(pred) + (1-y) * tf.log(1-pred), reduction_indices=1))\n",
    "    loss_summary=tf.summary.scalar('loss',loss)\n",
    "    \n",
    "with tf.name_scope(\"optimizer\"):\n",
    "    optimizer = tf.train.AdamOptimizer(0.1).minimize(loss)\n",
    "    \n",
    "writer = tf.summary.FileWriter(\"./my_model/\")\n",
    "\n",
    "with tf.Session() as sess:\n",
    "    sess.run(tf.global_variables_initializer())\n",
    "    writer.add_graph(sess.graph)\n",
    "    \n",
    "    for epoch in range(10000):\n",
    "        _, c, p, w11, w12, b11, b12, ls,test = sess.run([optimizer, loss, pred, W1, W2, b1, b2, loss_summary,x], feed_dict={x: X, y: Y})\n",
    "        writer.add_summary(ls,epoch)\n",
    "print (p, y)\n",
    "print(p.shape)\n",
    "\n",
    "### For the schema of the graph it will be in the zip as filename Q2 ###"
   ]
  },
  {
   "cell_type": "markdown",
   "metadata": {},
   "source": [
    "### Print the weights of your model\n",
    "And give an interpretation on what they are doing"
   ]
  },
  {
   "cell_type": "code",
   "execution_count": 3,
   "metadata": {},
   "outputs": [
    {
     "name": "stdout",
     "output_type": "stream",
     "text": [
      "W1 =  [[ 10.35075188  14.44430351]\n",
      " [ 10.40537357  13.86432362]]\n",
      "W2 =  [[-25.05777359]\n",
      " [ 24.09098434]]\n"
     ]
    }
   ],
   "source": [
    "### Code here\n",
    "\n",
    "print(\"W1 = \",w11)\n",
    "print(\"W2 = \",w12)\n",
    "\n"
   ]
  },
  {
   "cell_type": "markdown",
   "metadata": {},
   "source": [
    "---\n",
    "### Build a CNN to predict the MNIST digits\n",
    "You can now move to CNNs. You'll have to train a convolutional neural network to predict the digits from MNIST.\n",
    "\n",
    "You might want to reuse some pieces of code from [SNN](https://nbviewer.jupyter.org/github/marc-moreaux/Deep-Learning-classes/blob/master/notebooks/Intro_to_SNN.ipynb)\n",
    "\n",
    "Your model should have 3 layers:\n",
    "- 1st layer : 6 convolutional kernels with shape (3,3)\n",
    "- 2nd layer : 6 convolutional kernels with shape (3,3)\n",
    "- 3rd layer : Softmax layer\n",
    "\n",
    "Train your model.\n",
    "\n",
    "Explain all you do, and why, make it lovely to read, plz o:)"
   ]
  },
  {
   "cell_type": "code",
   "execution_count": 8,
   "metadata": {},
   "outputs": [
    {
     "name": "stdout",
     "output_type": "stream",
     "text": [
      "Extracting data/MNIST/train-images-idx3-ubyte.gz\n",
      "Extracting data/MNIST/train-labels-idx1-ubyte.gz\n",
      "Extracting data/MNIST/t10k-images-idx3-ubyte.gz\n",
      "Extracting data/MNIST/t10k-labels-idx1-ubyte.gz\n"
     ]
    }
   ],
   "source": [
    "### We build most of our code based on this video tutorial: https://www.youtube.com/watch?v=HMcx-zY8JSg ###\n",
    "### We also used the official Tensorflow documentation on the subject: https://www.tensorflow.org/get_started/mnist/pros \n",
    "### and https://www.tensorflow.org/tutorials/layers ###\n",
    "\n",
    "\"\"\"\n",
    "\n",
    "\n",
    "Initialisation: Import Variables\n",
    "\n",
    "\n",
    "\"\"\"\n",
    "\n",
    "\n",
    "\n",
    "#Import the library\n",
    "%matplotlib inline\n",
    "import matplotlib.pyplot as plt\n",
    "import tensorflow as tf\n",
    "import numpy as np\n",
    "from sklearn.metrics import confusion_matrix\n",
    "import time\n",
    "from datetime import timedelta\n",
    "import math\n",
    "\n",
    "#####################################################\n",
    "\n",
    "##Creation of all objects for our Tensor flow graph##\n",
    "\n",
    "#####################################################\n",
    "# Convolutional Layer 1.\n",
    "filter_size1 = 3          # Convolution filters are 3 x 3 pixels.\n",
    "num_filters1 = 6         # There are 6 of these filters (or convolutional kernel).\n",
    "\n",
    "# Convolutional Layer 2.\n",
    "filter_size2 = 3          # Convolution filters are 3 x 3 pixels.\n",
    "num_filters2 = 6         # There are 6 of these filters (or convolutional kernel).\n",
    "\n",
    "# Fully-connected layer.\n",
    "fc_size = 128             # Number of neurons in fully-connected layer.\n",
    "\n",
    "#Import the MNIST database. We supposed that we were alowed to use it instead of the technic shown in SNN\n",
    "from tensorflow.examples.tutorials.mnist import input_data\n",
    "data = input_data.read_data_sets('data/MNIST/', one_hot=True) #one_hot to get data in a vector of 10 elements, the number of possible classes (0 except 1 for the correct value) \n",
    "\n",
    "\n",
    "#Here we get data as regular number (From 0 to 9), it will be required later on\n",
    "data.test.cls = np.argmax(data.test.labels, axis=1)\n",
    "\n",
    "# We know that MNIST images are 28 pixels in each dimension.\n",
    "img_size = 28\n",
    "\n",
    "# Images are stored in one-dimensional arrays of this length.\n",
    "img_size_flat = img_size * img_size\n",
    "\n",
    "# Tuple with height and width of images used to reshape arrays.\n",
    "img_shape = (img_size, img_size)\n",
    "\n",
    "# Number of colour channels for the images: 1 channel for gray-scale. So just a weight of one color so 1 channel\n",
    "num_channels = 1\n",
    "\n",
    "# Number of classes, one class for each of 10 digits. (0 -> 9)\n",
    "num_classes = 10"
   ]
  },
  {
   "cell_type": "code",
   "execution_count": 10,
   "metadata": {
    "collapsed": true
   },
   "outputs": [],
   "source": [
    "\"\"\"\n",
    "\n",
    "Creation of the model Tensorflow\n",
    "\n",
    "\n",
    "\"\"\"\n",
    "\n",
    "\n",
    "#The 2 function below are used to create weights and biaises\n",
    "def new_weights(shape):\n",
    "    return tf.Variable(tf.truncated_normal(shape, stddev=0.05))\n",
    "\n",
    "def new_biases(length):\n",
    "    #We try to make them slightly positive to avoid \"dead neurons\" (too low bias are on the slope that don't change of RELU, 0 )\n",
    "    return tf.Variable(tf.constant(0.05, shape=[length]))\n",
    "\n",
    "\n",
    "def new_conv_layer(input,              # The previous layer.\n",
    "                   num_input_channels, # Num. channels in prev. layer.\n",
    "                   filter_size,        # Width and height of each filter.\n",
    "                   num_filters,        # Number of filters.\n",
    "                   use_pooling=True):  # Use 2x2 max-pooling.\n",
    "\n",
    "    # Shape of the filter-weights for the convolution.\n",
    "    shape = [filter_size, filter_size, num_input_channels, num_filters]\n",
    "\n",
    "    # Create new weights aka. filters with the given shape.\n",
    "    weights = new_weights(shape=shape)\n",
    "\n",
    "    # Create new biases, one for each filter.\n",
    "    biases = new_biases(length=num_filters)\n",
    "\n",
    "    # Create the TensorFlow operation for convolution.\n",
    "    # Note the strides are set to 1 in all dimensions.\n",
    "    # The first and last stride must always be 1,\n",
    "    # because the first is for the image-number and\n",
    "    # the last is for the input-channel.\n",
    "    # But e.g. strides=[1, 2, 2, 1] would mean that the filter\n",
    "    # is moved 2 pixels across the x- and y-axis of the image.\n",
    "    # The padding is set to 'SAME' which means the input image\n",
    "    # is padded with zeroes so the size of the output is the same.\n",
    "    layer = tf.nn.conv2d(input=input,\n",
    "                         filter=weights,\n",
    "                         strides=[1, 1, 1, 1],\n",
    "                         padding='SAME')\n",
    "\n",
    "    # Add the biases to the results of the convolution.\n",
    "    # A bias-value is added to each filter-channel.\n",
    "    layer += biases\n",
    "    \n",
    "    if use_pooling:\n",
    "        # This is 2x2 max-pooling, which means that we\n",
    "        # consider 2x2 windows and select the largest value\n",
    "        # in each window. Then we move 2 pixels to the next window.\n",
    "        layer = tf.nn.max_pool(value=layer,\n",
    "                               ksize=[1, 2, 2, 1],\n",
    "                               strides=[1, 2, 2, 1],\n",
    "                               padding='SAME')\n",
    "        \n",
    "    # Rectified Linear Unit (ReLU).\n",
    "    # It calculates max(x, 0) for each input pixel x.\n",
    "    # This adds some non-linearity to the formula and allows us\n",
    "    # to learn more complicated functions.\n",
    "    layer = tf.nn.relu(layer)\n",
    "\n",
    "    # Note that ReLU is normally executed before the pooling,\n",
    "    # but since relu(max_pool(x)) == max_pool(relu(x)) we can\n",
    "    # save 75% of the relu-operations by max-pooling first.\n",
    "\n",
    "    # We return both the resulting layer and the filter-weights\n",
    "    # because we will plot the weights later.\n",
    "    return layer, weights\n",
    "\n",
    "\n",
    "#To change the 4 dimentional output of a convolutional layer into a 2 dimensionnal layer Tensor\n",
    "def flatten_layer(layer):\n",
    "    # Get the shape of the input layer.\n",
    "    layer_shape = layer.get_shape()\n",
    "\n",
    "    # The shape of the input layer is assumed to be:\n",
    "    # layer_shape == [num_images, img_height, img_width, num_channels]\n",
    "\n",
    "    # The number of features is: img_height * img_width * num_channels\n",
    "    # We can use a function from TensorFlow to calculate this.\n",
    "    num_features = layer_shape[1:4].num_elements()\n",
    "    \n",
    "    # Reshape the layer to [num_images, num_features].\n",
    "    # Note that we just set the size of the second dimension\n",
    "    # to num_features and the size of the first dimension to -1\n",
    "    # which means the size in that dimension is calculated\n",
    "    # so the total size of the tensor is unchanged from the reshaping.\n",
    "    layer_flat = tf.reshape(layer, [-1, num_features])\n",
    "\n",
    "    # The shape of the flattened layer is now:\n",
    "    # [num_images, img_height * img_width * num_channels]\n",
    "\n",
    "    # Return both the flattened layer and the number of features.\n",
    "    return layer_flat, num_features\n",
    "\n",
    "\n",
    "#Get a fully connected layer and output a fully connected layer of an other size after done a E step\n",
    "def new_fc_layer(input,          # The previous layer.\n",
    "                 num_inputs,     # Num. inputs from prev. layer.\n",
    "                 num_outputs,    # Num. outputs.\n",
    "                 use_relu=True): # Use Rectified Linear Unit (ReLU)?\n",
    "\n",
    "    # Create new weights and biases.\n",
    "    weights = new_weights(shape=[num_inputs, num_outputs])\n",
    "    biases = new_biases(length=num_outputs)\n",
    "\n",
    "    # Calculate the layer as the matrix multiplication of\n",
    "    # the input and weights, and then add the bias-values.\n",
    "    layer = tf.matmul(input, weights) + biases\n",
    "\n",
    "    # Use ReLU?\n",
    "    if use_relu:\n",
    "        layer = tf.nn.relu(layer)\n",
    "\n",
    "    return layer\n",
    "\n",
    "\n",
    "#Placeholder variables, that will be used to input data to the graph\n",
    "#None for arbitrarily number of image (that we will get by batch)\n",
    "x = tf.placeholder(tf.float32, shape=[None, img_size_flat], name='x')\n",
    "\n",
    "#We reshape the image from 1 dimension vector to a 4 dimension tensor to be able to use it in our functions\n",
    "#-1 is the number of images, here -1 to let tensorflow choose it automaticcaly\n",
    "#Then just the dimension of the image and the number of channels\n",
    "x_image = tf.reshape(x, [-1, img_size, img_size, num_channels])\n",
    "\n",
    "#None as for x for the same reasons\n",
    "#It represent the true label expected for each image\n",
    "y_true = tf.placeholder(tf.float32, shape=[None, num_classes], name='y_true')\n",
    "\n",
    "#Here to get the brut value of the image (like 7)\n",
    "y_true_cls = tf.argmax(y_true, dimension=1)\n",
    "\n",
    "\n",
    "#Convolutionnal 1\n",
    "#It takes some images as input, 1 channel, here we want 6 filters and we pool to reduce image by 2\n",
    "layer_conv1, weights_conv1 = \\\n",
    "    new_conv_layer(input=x_image,\n",
    "                   num_input_channels=num_channels,\n",
    "                   filter_size=filter_size1,\n",
    "                   num_filters=num_filters1,\n",
    "                   use_pooling=True)\n",
    "#We get from it the convolutionnal layer (here 14*14 cause we pool it by 2*2) in 6 channels\n",
    "#We get also the associated weights from it    \n",
    "\n",
    "#Convolutionnal 2\n",
    "#Same that for the 1 but we take here the convolutionnal layer 1 as input and the filter size ans num_filter that we want for this one (But we want the same that for the 1 here)\n",
    "#We pool 2*2 here too so we are supposed to get a 7*7 (14/2) size for each image by 6 filter as we have in input\n",
    "layer_conv2, weights_conv2 = \\\n",
    "    new_conv_layer(input=layer_conv1,\n",
    "                   num_input_channels=num_filters1,\n",
    "                   filter_size=filter_size2,\n",
    "                   num_filters=num_filters2,\n",
    "                   use_pooling=True)\n",
    "\n",
    "#We get the flat_layer (image of a size arbitrary given in a multiple of 7*7 in our case)\n",
    "#We get the number of features (this number multiple of 7*7)\n",
    "layer_flat, num_features = flatten_layer(layer_conv2)\n",
    "\n",
    "#Then we do the neurol network layer reduction from this number to 128 neurons (that we fixed arbitrarily)\n",
    "#Classique one\n",
    "layer_fc1 = new_fc_layer(input=layer_flat,\n",
    "                         num_inputs=num_features,\n",
    "                         num_outputs=fc_size,\n",
    "                         use_relu=True)\n",
    "\n",
    "#And we do it again to pass from the 128 neurons layer to the 10 neurons layer that are the 10 class possibles\n",
    "layer_fc2 = new_fc_layer(input=layer_fc1,\n",
    "                         num_inputs=fc_size,\n",
    "                         num_outputs=num_classes,\n",
    "                         use_relu=False)\n",
    "\n",
    "#Predicted class\n",
    "#We softmax to have more easily a number between 0 and 1 and the sum of pred = 1\n",
    "y_pred = tf.nn.softmax(layer_fc2)\n",
    "y_pred_cls = tf.argmax(y_pred, dimension=1)\n",
    "\n",
    "\n",
    "\n",
    "#We want to know how well our model performs (between pred and the value espected)\n",
    "\n",
    "#Cost function\n",
    "cross_entropy = tf.nn.softmax_cross_entropy_with_logits(logits=layer_fc2,\n",
    "                                                        labels=y_true)\n",
    "#Here we get the get a single value for all images (the average of the cross-entropy)\n",
    "cost = tf.reduce_mean(cross_entropy)\n",
    "\n",
    "#Optimization\n",
    "#We use AdamOptimizer (An advenced form of Gradient descent) because it is the one the more efficient\n",
    "optimizer = tf.train.AdamOptimizer(learning_rate=0.0001).minimize(cost)\n",
    "\n",
    "#We compare the class predicted to the true class for each image\n",
    "correct_prediction = tf.equal(y_pred_cls, y_true_cls)\n",
    "\n",
    "#We change this boolean as a float32 and we calculate the accuracy (True becomes 1)\n",
    "accuracy = tf.reduce_mean(tf.cast(correct_prediction, tf.float32))"
   ]
  },
  {
   "cell_type": "code",
   "execution_count": 11,
   "metadata": {},
   "outputs": [
    {
     "name": "stdout",
     "output_type": "stream",
     "text": [
      "Accuracy before optimization:\n",
      "Accuracy on Test-Set: 8.3% (831 / 10000)\n",
      "Beginning of optimization:\n",
      "Optimization Iteration:      1, Training Accuracy:   7.8%\n",
      "Optimization Iteration:    101, Training Accuracy:  17.2%\n",
      "Optimization Iteration:    201, Training Accuracy:  17.2%\n",
      "Optimization Iteration:    301, Training Accuracy:  34.4%\n",
      "Optimization Iteration:    401, Training Accuracy:  71.9%\n",
      "Optimization Iteration:    501, Training Accuracy:  64.1%\n",
      "Optimization Iteration:    601, Training Accuracy:  85.9%\n",
      "Optimization Iteration:    701, Training Accuracy:  87.5%\n",
      "Optimization Iteration:    801, Training Accuracy:  85.9%\n",
      "Optimization Iteration:    901, Training Accuracy:  89.1%\n",
      "Time usage: 0:00:22\n",
      "Accuracy on Test-Set: 87.3% (8732 / 10000)\n",
      "Total number of iterations: 1000\n"
     ]
    }
   ],
   "source": [
    "\"\"\"\n",
    "\n",
    "Run the code part, see if our model performs well\n",
    "\n",
    "\n",
    "\"\"\"\n",
    "\n",
    "session = tf.Session()\n",
    "session.run(tf.global_variables_initializer())#Initialisation of variables\n",
    "train_batch_size = 64 #Create small batches\n",
    "\n",
    "\n",
    "# Counter for total number of iterations performed so far.\n",
    "total_iterations = 0\n",
    "w21=0\n",
    "w22=0\n",
    "\n",
    "def optimize(num_iterations):\n",
    "    # Ensure we update the global variable rather than a local copy.\n",
    "    global total_iterations\n",
    "    global w21\n",
    "    global w22\n",
    "\n",
    "    # Start-time used for printing time-usage below.\n",
    "    start_time = time.time()\n",
    "\n",
    "    for i in range(total_iterations,\n",
    "                   total_iterations + num_iterations):\n",
    "\n",
    "        # Get a batch of training examples.\n",
    "        # x_batch now holds a batch of images and\n",
    "        # y_true_batch are the true labels for those images.\n",
    "        x_batch, y_true_batch = data.train.next_batch(train_batch_size)\n",
    "\n",
    "        # Put the batch into a dict with the proper names\n",
    "        # for placeholder variables in the TensorFlow graph.\n",
    "        feed_dict_train = {x: x_batch, y_true: y_true_batch}\n",
    "    \n",
    "            \n",
    "        # Run the optimizer using this batch of training data.\n",
    "        # TensorFlow assigns the variables in feed_dict_train\n",
    "        # to the placeholder variables and then runs the optimizer.\n",
    "        _, w21, w22 = session.run([optimizer, weights_conv1, weights_conv2], feed_dict=feed_dict_train)\n",
    "                    \n",
    "        # Print status every 100 iterations.\n",
    "        if i % 100 == 0:\n",
    "            # Calculate the accuracy on the training-set.\n",
    "            acc = session.run(accuracy, feed_dict=feed_dict_train)\n",
    "\n",
    "            # Message for printing.\n",
    "            msg = \"Optimization Iteration: {0:>6}, Training Accuracy: {1:>6.1%}\"\n",
    "\n",
    "            # Print it.\n",
    "            print(msg.format(i + 1, acc))\n",
    "\n",
    "    # Update the total number of iterations performed.\n",
    "    total_iterations += num_iterations\n",
    "    \n",
    "\n",
    "    # Ending time.\n",
    "    end_time = time.time()\n",
    "\n",
    "    # Difference between start and end-times.\n",
    "    time_dif = end_time - start_time\n",
    "\n",
    "    # Print the time-usage.\n",
    "    print(\"Time usage: \" + str(timedelta(seconds=int(round(time_dif)))))\n",
    " \n",
    "   \n",
    "    \n",
    "# Split the test-set into smaller batches of this size.\n",
    "test_batch_size = 256\n",
    "\n",
    "\n",
    "#At first try we are suppose to get around 10% accurency (10 class possibles)\n",
    "def print_test_accuracy():\n",
    "\n",
    "    # Number of images in the test-set.\n",
    "    num_test = len(data.test.images)\n",
    "\n",
    "    # Allocate an array for the predicted classes which\n",
    "    # will be calculated in batches and filled into this array.\n",
    "    cls_pred = np.zeros(shape=num_test, dtype=np.int)\n",
    "\n",
    "    # Now calculate the predicted classes for the batches.\n",
    "    # We will just iterate through all the batches.\n",
    "    # There might be a more clever and Pythonic way of doing this.\n",
    "\n",
    "    # The starting index for the next batch is denoted i.\n",
    "    i = 0\n",
    "\n",
    "    while i < num_test:\n",
    "        # The ending index for the next batch is denoted j.\n",
    "        j = min(i + test_batch_size, num_test)\n",
    "\n",
    "        # Get the images from the test-set between index i and j.\n",
    "        images = data.test.images[i:j, :]\n",
    "\n",
    "        # Get the associated labels.\n",
    "        labels = data.test.labels[i:j, :]\n",
    "\n",
    "        # Create a feed-dict with these images and labels.\n",
    "        feed_dict = {x: images,\n",
    "                     y_true: labels}\n",
    "\n",
    "        # Calculate the predicted class using TensorFlow.\n",
    "        cls_pred[i:j] = session.run(y_pred_cls, feed_dict=feed_dict)\n",
    "\n",
    "        # Set the start-index for the next batch to the\n",
    "        # end-index of the current batch.\n",
    "        i = j\n",
    "\n",
    "    # Convenience variable for the true class-numbers of the test-set.\n",
    "    cls_true = data.test.cls\n",
    "\n",
    "    # Create a boolean array whether each image is correctly classified.\n",
    "    correct = (cls_true == cls_pred)\n",
    "\n",
    "    # Calculate the number of correctly classified images.\n",
    "    # When summing a boolean array, False means 0 and True means 1.\n",
    "    correct_sum = correct.sum()\n",
    "\n",
    "    # Classification accuracy is the number of correctly classified\n",
    "    # images divided by the total number of images in the test-set.\n",
    "    acc = float(correct_sum) / num_test\n",
    "\n",
    "    # Print the accuracy.\n",
    "    msg = \"Accuracy on Test-Set: {0:.1%} ({1} / {2})\"\n",
    "    print(msg.format(acc, correct_sum, num_test))\n",
    "        \n",
    "        \n",
    "print(\"Accuracy before optimization:\")\n",
    "print_test_accuracy()\n",
    "print(\"Beginning of optimization:\")\n",
    "optimize(num_iterations=1000)\n",
    "#We check how good worked our model at the end\n",
    "print_test_accuracy()\n",
    "\n",
    "print(\"Total number of iterations:\" ,total_iterations)\n"
   ]
  },
  {
   "cell_type": "markdown",
   "metadata": {},
   "source": [
    "### Print the weights of your model\n",
    "And give an interpretation on what they are doing"
   ]
  },
  {
   "cell_type": "code",
   "execution_count": 12,
   "metadata": {},
   "outputs": [
    {
     "name": "stdout",
     "output_type": "stream",
     "text": [
      "W1 final=  [[[[ 0.02322254 -0.13199347  0.11424304 -0.10021503 -0.16074722  0.15149316]]\n",
      "\n",
      "  [[-0.13528076 -0.09832245  0.15406279 -0.09435652 -0.14497732  0.23707998]]\n",
      "\n",
      "  [[-0.20076568 -0.08431778  0.0366116   0.13149519 -0.11575373  0.10810126]]]\n",
      "\n",
      "\n",
      " [[[-0.10864274 -0.14398238  0.11880873 -0.1684085  -0.02598211  0.0980565 ]]\n",
      "\n",
      "  [[-0.11406117 -0.14777376  0.18402368 -0.15040454 -0.07776146  0.06292378]]\n",
      "\n",
      "  [[-0.02536114 -0.14627436  0.19902301  0.06043787  0.01435748  0.17416094]]]\n",
      "\n",
      "\n",
      " [[[-0.08711937  0.05389575  0.07869607 -0.10041837 -0.12844525  0.17155471]]\n",
      "\n",
      "  [[-0.05172232  0.05615001  0.15589829 -0.16433008 -0.0881496   0.15597637]]\n",
      "\n",
      "  [[ 0.13591775  0.00368357  0.1641943   0.06671584  0.13845287  0.12545973]]]]\n",
      "W2 final=  [[[[ 0.07559912  0.07876186 -0.09142206  0.05172145  0.09001105  0.1232834 ]\n",
      "   [ 0.09896825  0.11854528 -0.14095977  0.01333667  0.14994767  0.07939031]\n",
      "   [-0.08560187 -0.08549218  0.1299445   0.02792946 -0.13330914 -0.02491346]\n",
      "   [ 0.13821031  0.05058189 -0.13264626  0.14942192  0.08126593  0.17452434]\n",
      "   [ 0.09926223  0.0765024  -0.12298638  0.05136464  0.15751724  0.1182208 ]\n",
      "   [-0.13313088 -0.14012374  0.16380498  0.13678318 -0.00331966  0.04817297]]\n",
      "\n",
      "  [[-0.02871853  0.04272919  0.02412462 -0.03372056  0.04949472  0.02444106]\n",
      "   [ 0.06263143  0.18195467 -0.03604002  0.0525164   0.11687488  0.12881351]\n",
      "   [-0.01893652 -0.12807126 -0.01832771  0.07501809 -0.13278353 -0.10333893]\n",
      "   [ 0.09376916  0.14843205 -0.02416485  0.0709445   0.12265227  0.0631166 ]\n",
      "   [ 0.11280966  0.1661821   0.0377464   0.11029627  0.11165292  0.09174125]\n",
      "   [-0.10409557 -0.22644514  0.11375913  0.14360891 -0.10607651 -0.00556221]]\n",
      "\n",
      "  [[-0.04739883  0.16961335  0.16163772 -0.01399177  0.14008306  0.10178935]\n",
      "   [-0.08881271  0.12715016  0.09362425 -0.00393728  0.12117496  0.05853637]\n",
      "   [ 0.15073717 -0.02344675 -0.13258071  0.12811728  0.03620761 -0.14799459]\n",
      "   [ 0.14037597  0.10339455  0.04496437  0.08141988  0.10676876  0.13691543]\n",
      "   [ 0.10442152  0.13427168  0.11756112 -0.03293835  0.01993702  0.04819573]\n",
      "   [ 0.11712474 -0.15686198 -0.10502271  0.17197049  0.04023611 -0.10107134]]]\n",
      "\n",
      "\n",
      " [[[ 0.15076558  0.11882936 -0.1226273   0.18212058  0.14837082  0.16905312]\n",
      "   [ 0.10364625 -0.01836558 -0.12197494  0.08512642  0.12171517  0.15601198]\n",
      "   [-0.15514483  0.06161282  0.18232788 -0.07253814 -0.13130447 -0.10476556]\n",
      "   [ 0.05087296  0.01518646 -0.08100462  0.13939086  0.09788121  0.06685651]\n",
      "   [ 0.07305378  0.04417144 -0.13553664  0.05606352  0.09018395  0.14028193]\n",
      "   [-0.13560204  0.0114756   0.04582391 -0.11070472 -0.13083678 -0.14321321]]\n",
      "\n",
      "  [[ 0.04147649  0.04485977  0.16762958  0.04390984  0.16620094  0.15714222]\n",
      "   [ 0.02916325  0.09115769  0.04156392  0.10575919  0.0712693   0.15029471]\n",
      "   [ 0.07931724  0.11472694  0.05834853 -0.08222356 -0.19458956 -0.13014139]\n",
      "   [ 0.17572533  0.01172763  0.05261158  0.14984491  0.13224339  0.1654398 ]\n",
      "   [ 0.06188034  0.06394494 -0.01241858  0.11774074  0.14682284  0.08229268]\n",
      "   [ 0.01909702  0.07724116  0.07929295 -0.10760107 -0.16693585 -0.13354625]]\n",
      "\n",
      "  [[-0.1285767   0.09478316  0.09419953  0.0568148   0.0885796   0.0685294 ]\n",
      "   [-0.05262116  0.15538429  0.12156448  0.07922268  0.04126702  0.13231057]\n",
      "   [ 0.17748222  0.0972004  -0.11571883 -0.17983669  0.0467603  -0.20108643]\n",
      "   [ 0.02449084 -0.0070892   0.04872024  0.12399876  0.15435965  0.04319958]\n",
      "   [-0.07208347  0.05305427  0.04801595  0.17661925  0.17994593  0.1221072 ]\n",
      "   [ 0.17401014  0.1139956  -0.14635231 -0.12144967  0.04720366 -0.10723683]]]\n",
      "\n",
      "\n",
      " [[[ 0.10040411  0.06732599 -0.07311471  0.05629493  0.12596673  0.16995008]\n",
      "   [ 0.17677733 -0.02176791 -0.16749473  0.17322576  0.06847487  0.13153957]\n",
      "   [-0.10324068  0.13594764  0.07479692 -0.14303163 -0.13378344 -0.0198493 ]\n",
      "   [ 0.08727318 -0.11623734 -0.09773095  0.12563108  0.15595396  0.10885582]\n",
      "   [ 0.11490598  0.06150166 -0.06728896  0.15635921  0.13831732  0.15355456]\n",
      "   [-0.15496773  0.12210252  0.13233414 -0.1413274  -0.12478682 -0.09835217]]\n",
      "\n",
      "  [[ 0.06881058 -0.03151901 -0.00925086  0.14355104  0.08572415  0.09215412]\n",
      "   [ 0.05802613 -0.138073   -0.00049284  0.08147554  0.07366783  0.13268806]\n",
      "   [ 0.0374218   0.14946917  0.0899281  -0.13098904 -0.06842843 -0.00645647]\n",
      "   [ 0.16700001 -0.12702523 -0.05617604  0.08980189  0.09537963  0.12255607]\n",
      "   [ 0.09614942 -0.02934483  0.01443148  0.11372334  0.11319275  0.18907154]\n",
      "   [ 0.06354112  0.15113996  0.15962212 -0.184378   -0.10288222 -0.02848491]]\n",
      "\n",
      "  [[-0.10983131 -0.19224381  0.06812322  0.16887704  0.0864191   0.15734011]\n",
      "   [-0.13583626 -0.20688242  0.1116053   0.14644705  0.00558748  0.11074079]\n",
      "   [ 0.14947884  0.17728776 -0.01931086 -0.13684842  0.18663883  0.05842953]\n",
      "   [-0.01945531 -0.19388236 -0.05602846  0.11585965  0.14597403  0.10195489]\n",
      "   [-0.10531333 -0.12899369  0.08268838  0.14025548  0.1452824   0.08128316]\n",
      "   [ 0.10144794  0.03922646 -0.02705408 -0.03581543  0.14177477  0.02125841]]]]\n",
      "<tf.Variable 'Variable_8:0' shape=(3, 3, 1, 6) dtype=float32_ref>\n",
      "<tf.Variable 'Variable_10:0' shape=(3, 3, 6, 6) dtype=float32_ref>\n"
     ]
    },
    {
     "data": {
      "text/plain": [
       "'\\nFirst weight is (3,3,1,6) and second one (3,3,6,6)\\nWhen we use this 6 filters filter  on the input image, the high weights will more more activ on the grey part that the weight that\\nare negativ or 0\\nSo from 1 image input, we will have 6 \"differents\" images based on the filter that were used cause each filter is diffents due \\nthe different weights that compose each filter\\n\\nIt is the same for the second weights that will take the 6 images output from the first convolutional layer (filter by weights1)\\nand filter them also by their weights and create 6 output images that are different result from the same image (same principle that for weights1)\\nIn theory they are supposed to represent the relations between each pixel with the adjacent one by detecting pattern in the input image\\n\\n'"
      ]
     },
     "execution_count": 12,
     "metadata": {},
     "output_type": "execute_result"
    }
   ],
   "source": [
    "### code here\n",
    "\n",
    "### Here you have the final weights \n",
    "print(\"W1 final= \",w21)\n",
    "print(\"W2 final= \",w22)\n",
    "\n",
    "print(weights_conv1)\n",
    "print(weights_conv2)\n",
    "\"\"\"\n",
    "First weight is (3,3,1,6) and second one (3,3,6,6)\n",
    "When we use this 6 filters filter  on the input image, the high weights will more more activ on the grey part that the weight that\n",
    "are negativ or 0\n",
    "So from 1 image input, we will have 6 \"differents\" images based on the filter that were used cause each filter is diffents due \n",
    "the different weights that compose each filter\n",
    "\n",
    "It is the same for the second weights that will take the 6 images output from the first convolutional layer (filter by weights1)\n",
    "and filter them also by their weights and create 6 output images that are different result from the same image (same principle that for weights1)\n",
    "In theory they are supposed to represent the relations between each pixel with the adjacent one by detecting pattern in the input image\n",
    "\n",
    "\"\"\""
   ]
  },
  {
   "cell_type": "markdown",
   "metadata": {},
   "source": [
    "### Chose one (tell me what you chose...)\n",
    "- Show how the gradients (show only one kernel) evolve for good and wrong prediction. (hard)\n",
    "- Initialize the kernels with values that make sense for you and show how they evolve. (easy) \n",
    "- When training is finished, show the 6+6=12 results of some convolved immages. (easy)"
   ]
  },
  {
   "cell_type": "code",
   "execution_count": 8,
   "metadata": {
    "collapsed": true
   },
   "outputs": [],
   "source": [
    "### We chose n°3 When training is finished, show the 6+6=12 results of some convolved immages. (easy) ###"
   ]
  },
  {
   "cell_type": "code",
   "execution_count": 13,
   "metadata": {
    "collapsed": true
   },
   "outputs": [],
   "source": [
    "#see convolutionnal layer\n",
    "def plot_conv_layer(layer, image):\n",
    "    # Assume layer is a TensorFlow op that outputs a 4-dim tensor\n",
    "    # which is the output of a convolutional layer,\n",
    "    # e.g. layer_conv1 or layer_conv2.\n",
    "\n",
    "    # Create a feed-dict containing just one image.\n",
    "    # Note that we don't need to feed y_true because it is\n",
    "    # not used in this calculation.\n",
    "    feed_dict = {x: [image]}\n",
    "\n",
    "    # Calculate and retrieve the output values of the layer\n",
    "    # when inputting that image.\n",
    "    values = session.run(layer, feed_dict=feed_dict)\n",
    "\n",
    "    # Number of filters used in the conv. layer.\n",
    "    num_filters = values.shape[3]\n",
    "\n",
    "    \n",
    "    \n",
    "    # Create figure with a grid of sub-plots.\n",
    "    fig, axes = plt.subplots(1, num_filters)\n",
    "\n",
    "    # Plot the output images of all the filters.\n",
    "    for i, ax in enumerate(axes.flat):\n",
    "        # Only plot the images for valid filters.\n",
    "        if i<num_filters:\n",
    "            # Get the output image of using the i'th filter.\n",
    "            # See new_conv_layer() for details on the format\n",
    "            # of this 4-dim tensor.\n",
    "            img = values[0, :, :, i]\n",
    "\n",
    "            # Plot image.\n",
    "            ax.imshow(img, interpolation='nearest', cmap='binary')\n",
    "        \n",
    "        # Remove ticks from the plot.\n",
    "        ax.set_xticks([])\n",
    "        ax.set_yticks([])\n",
    "    \n",
    "    # Ensure the plot is shown correctly with multiple plots\n",
    "    # in a single Notebook cell.\n",
    "    plt.show()"
   ]
  },
  {
   "cell_type": "code",
   "execution_count": 14,
   "metadata": {},
   "outputs": [
    {
     "data": {
      "image/png": "[encoded data removed]",
      "text/plain": [
       "<matplotlib.figure.Figure at 0x26cb1f0eba8>"
      ]
     },
     "metadata": {},
     "output_type": "display_data"
    },
    {
     "data": {
      "image/png": "[encoded data removed]",
      "text/plain": [
       "<matplotlib.figure.Figure at 0x26cb180a7f0>"
      ]
     },
     "metadata": {},
     "output_type": "display_data"
    }
   ],
   "source": [
    "image1 = data.test.images[6]\n",
    "plot_conv_layer(layer=layer_conv1, image=image1)\n",
    "plot_conv_layer(layer=layer_conv2, image=image1)"
   ]
  },
  {
   "cell_type": "code",
   "execution_count": 15,
   "metadata": {},
   "outputs": [
    {
     "data": {
      "image/png": "[encoded data removed]",
      "text/plain": [
       "<matplotlib.figure.Figure at 0x26cb0eb9f60>"
      ]
     },
     "metadata": {},
     "output_type": "display_data"
    },
    {
     "data": {
      "image/png": "[encoded data removed]",
      "text/plain": [
       "<matplotlib.figure.Figure at 0x26cb149c390>"
      ]
     },
     "metadata": {},
     "output_type": "display_data"
    }
   ],
   "source": [
    "image2 = data.test.images[7]\n",
    "plot_conv_layer(layer=layer_conv1, image=image2)\n",
    "plot_conv_layer(layer=layer_conv2, image=image2)"
   ]
  },
  {
   "cell_type": "code",
   "execution_count": 16,
   "metadata": {},
   "outputs": [
    {
     "data": {
      "image/png": "[encoded data removed]",
      "text/plain": [
       "<matplotlib.figure.Figure at 0x26cb187ccc0>"
      ]
     },
     "metadata": {},
     "output_type": "display_data"
    },
    {
     "data": {
      "image/png": "[encoded data removed]",
      "text/plain": [
       "<matplotlib.figure.Figure at 0x26cb2172470>"
      ]
     },
     "metadata": {},
     "output_type": "display_data"
    }
   ],
   "source": [
    "image3 = data.test.images[8]\n",
    "plot_conv_layer(layer=layer_conv1, image=image3)\n",
    "plot_conv_layer(layer=layer_conv2, image=image3)"
   ]
  },
  {
   "cell_type": "code",
   "execution_count": 17,
   "metadata": {},
   "outputs": [
    {
     "data": {
      "image/png": "[encoded data removed]",
      "text/plain": [
       "<matplotlib.figure.Figure at 0x26cb1917860>"
      ]
     },
     "metadata": {},
     "output_type": "display_data"
    },
    {
     "data": {
      "image/png": "[encoded data removed]",
      "text/plain": [
       "<matplotlib.figure.Figure at 0x26cb13c27b8>"
      ]
     },
     "metadata": {},
     "output_type": "display_data"
    }
   ],
   "source": [
    "image4 = data.test.images[9]\n",
    "plot_conv_layer(layer=layer_conv1, image=image4)\n",
    "plot_conv_layer(layer=layer_conv2, image=image4)"
   ]
  },
  {
   "cell_type": "code",
   "execution_count": 18,
   "metadata": {},
   "outputs": [
    {
     "data": {
      "image/png": "[encoded data removed]",
      "text/plain": [
       "<matplotlib.figure.Figure at 0x26cac9704e0>"
      ]
     },
     "metadata": {},
     "output_type": "display_data"
    },
    {
     "data": {
      "image/png": "[encoded data removed]",
      "text/plain": [
       "<matplotlib.figure.Figure at 0x26cb3fe5c18>"
      ]
     },
     "metadata": {},
     "output_type": "display_data"
    }
   ],
   "source": [
    "image5 = data.test.images[10]\n",
    "plot_conv_layer(layer=layer_conv1, image=image5)\n",
    "plot_conv_layer(layer=layer_conv2, image=image5)"
   ]
  },
  {
   "cell_type": "code",
   "execution_count": 19,
   "metadata": {},
   "outputs": [
    {
     "data": {
      "image/png": "[encoded data removed]",
      "text/plain": [
       "<matplotlib.figure.Figure at 0x26cb0c6b5c0>"
      ]
     },
     "metadata": {},
     "output_type": "display_data"
    },
    {
     "data": {
      "image/png": "[encoded data removed]",
      "text/plain": [
       "<matplotlib.figure.Figure at 0x26cacd42278>"
      ]
     },
     "metadata": {},
     "output_type": "display_data"
    }
   ],
   "source": [
    "image6 = data.test.images[11]\n",
    "plot_conv_layer(layer=layer_conv1, image=image6)\n",
    "plot_conv_layer(layer=layer_conv2, image=image6)"
   ]
  },
  {
   "cell_type": "code",
   "execution_count": null,
   "metadata": {
    "collapsed": true
   },
   "outputs": [],
   "source": []
  }
 ],
 "metadata": {
  "kernelspec": {
   "display_name": "Python 3",
   "language": "python",
   "name": "python3"
  },
  "language_info": {
   "codemirror_mode": {
    "name": "ipython",
    "version": 3
   },
   "file_extension": ".py",
   "mimetype": "text/x-python",
   "name": "python",
   "nbconvert_exporter": "python",
   "pygments_lexer": "ipython3",
   "version": "3.6.2"
  }
 },
 "nbformat": 4,
 "nbformat_minor": 2
}
